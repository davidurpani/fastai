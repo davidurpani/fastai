{
  "nbformat": 4,
  "nbformat_minor": 0,
  "metadata": {
    "kernelspec": {
      "display_name": "Python 3",
      "language": "python",
      "name": "python3"
    },
    "colab": {
      "name": "00_exports.ipynb",
      "provenance": [],
      "toc_visible": true,
      "include_colab_link": true
    }
  },
  "cells": [
    {
      "cell_type": "markdown",
      "metadata": {
        "id": "view-in-github",
        "colab_type": "text"
      },
      "source": [
        "<a href=\"https://colab.research.google.com/github/davidurpani/fastai/blob/master/00_exports.ipynb\" target=\"_parent\"><img src=\"https://colab.research.google.com/assets/colab-badge.svg\" alt=\"Open In Colab\"/></a>"
      ]
    },
    {
      "cell_type": "code",
      "metadata": {
        "id": "Omm85DbsvREa",
        "colab_type": "code",
        "colab": {
          "base_uri": "https://localhost:8080/",
          "height": 139
        },
        "outputId": "0133724c-2ba7-40ad-c0ff-6cf33702ebce"
      },
      "source": [
        "from google.colab import drive\n",
        "drive.mount('/gdrive')\n",
        "%cd /gdrive"
      ],
      "execution_count": 5,
      "outputs": [
        {
          "output_type": "stream",
          "text": [
            "Go to this URL in a browser: https://accounts.google.com/o/oauth2/auth?client_id=947318989803-6bn6qk8qdgf4n4g3pfee6491hc0brc4i.apps.googleusercontent.com&redirect_uri=urn%3aietf%3awg%3aoauth%3a2.0%3aoob&response_type=code&scope=email%20https%3a%2f%2fwww.googleapis.com%2fauth%2fdocs.test%20https%3a%2f%2fwww.googleapis.com%2fauth%2fdrive%20https%3a%2f%2fwww.googleapis.com%2fauth%2fdrive.photos.readonly%20https%3a%2f%2fwww.googleapis.com%2fauth%2fpeopleapi.readonly\n",
            "\n",
            "Enter your authorization code:\n",
            "··········\n",
            "Mounted at /gdrive\n",
            "/gdrive\n"
          ],
          "name": "stdout"
        }
      ]
    },
    {
      "cell_type": "code",
      "metadata": {
        "id": "zHmjXDUUr_gx",
        "colab_type": "code",
        "colab": {}
      },
      "source": [
        "#export\n",
        "TEST = 'test'"
      ],
      "execution_count": 6,
      "outputs": []
    },
    {
      "cell_type": "markdown",
      "metadata": {
        "id": "H4YaPc9sr_g2",
        "colab_type": "text"
      },
      "source": [
        "## Export"
      ]
    },
    {
      "cell_type": "code",
      "metadata": {
        "id": "tlcWTyiqvfvH",
        "colab_type": "code",
        "colab": {
          "base_uri": "https://localhost:8080/",
          "height": 35
        },
        "outputId": "31f624af-bf3a-4209-9e82-c347cc8aacca"
      },
      "source": [
        "pwd"
      ],
      "execution_count": 7,
      "outputs": [
        {
          "output_type": "execute_result",
          "data": {
            "application/vnd.google.colaboratory.intrinsic": {
              "type": "string"
            },
            "text/plain": [
              "'/gdrive'"
            ]
          },
          "metadata": {
            "tags": []
          },
          "execution_count": 7
        }
      ]
    },
    {
      "cell_type": "code",
      "metadata": {
        "id": "lQD08-4avjaM",
        "colab_type": "code",
        "colab": {
          "base_uri": "https://localhost:8080/",
          "height": 34
        },
        "outputId": "188afc30-7490-41b8-ee29-77601608ac85"
      },
      "source": [
        "cd /gdrive/My Drive/course-v3/nbs/dl2"
      ],
      "execution_count": 8,
      "outputs": [
        {
          "output_type": "stream",
          "text": [
            "/gdrive/My Drive/course-v3/nbs/dl2\n"
          ],
          "name": "stdout"
        }
      ]
    },
    {
      "cell_type": "code",
      "metadata": {
        "id": "_JWoc0ITwEoN",
        "colab_type": "code",
        "colab": {
          "base_uri": "https://localhost:8080/",
          "height": 374
        },
        "outputId": "6bcc1e99-17c0-4dbb-9a2e-9267aed006ee"
      },
      "source": [
        "ls"
      ],
      "execution_count": 9,
      "outputs": [
        {
          "output_type": "stream",
          "text": [
            "00_exports.ipynb                 11_train_imagenette.ipynb\n",
            "01_matmul.ipynb                  12a_awd_lstm.ipynb\n",
            "02a_why_sqrt5.ipynb              12b_lm_pretrain.ipynb\n",
            "02b_initializing.ipynb           12c_ulmfit.ipynb\n",
            "02_fully_connected.ipynb         12_text.ipynb\n",
            "03_minibatch_training.ipynb      audio.ipynb\n",
            "04_callbacks.ipynb               bleu_metric.ipynb\n",
            "05a_foundations.ipynb            cyclegan.ipynb\n",
            "05_anneal.ipynb                  cyclegan_ws.ipynb\n",
            "05b_early_stopping.ipynb         devise.ipynb\n",
            "06_cuda_cnn_hooks_init.ipynb     \u001b[0m\u001b[01;34mexp\u001b[0m/\n",
            "07a_lsuv.ipynb                   \u001b[01;34mimages\u001b[0m/\n",
            "07_batchnorm.ipynb               notebook2script.py\n",
            "08_data_block.ipynb              pascal.ipynb\n",
            "09b_learner.ipynb                run_notebook.py\n",
            "09c_add_progress_bar.ipynb       timing.ipynb\n",
            "09_optimizers.ipynb              train_imagenette.py\n",
            "10_augmentation.ipynb            transforms-dali.ipynb\n",
            "10b_mixup_label_smoothing.ipynb  translation.ipynb\n",
            "10c_fp16.ipynb                   translation_transformer.ipynb\n",
            "11a_transfer_learning.ipynb\n"
          ],
          "name": "stdout"
        }
      ]
    },
    {
      "cell_type": "code",
      "metadata": {
        "id": "edCo0L7wwjyc",
        "colab_type": "code",
        "colab": {
          "base_uri": "https://localhost:8080/",
          "height": 241
        },
        "outputId": "99d85668-97f0-4398-c44e-3a6b1f72bea7"
      },
      "source": [
        "!pip install fire"
      ],
      "execution_count": 2,
      "outputs": [
        {
          "output_type": "stream",
          "text": [
            "Collecting fire\n",
            "\u001b[?25l  Downloading https://files.pythonhosted.org/packages/34/a7/0e22e70778aca01a52b9c899d9c145c6396d7b613719cd63db97ffa13f2f/fire-0.3.1.tar.gz (81kB)\n",
            "\r\u001b[K     |████                            | 10kB 17.0MB/s eta 0:00:01\r\u001b[K     |████████                        | 20kB 6.1MB/s eta 0:00:01\r\u001b[K     |████████████▏                   | 30kB 7.7MB/s eta 0:00:01\r\u001b[K     |████████████████▏               | 40kB 8.3MB/s eta 0:00:01\r\u001b[K     |████████████████████▏           | 51kB 6.8MB/s eta 0:00:01\r\u001b[K     |████████████████████████▎       | 61kB 7.4MB/s eta 0:00:01\r\u001b[K     |████████████████████████████▎   | 71kB 7.8MB/s eta 0:00:01\r\u001b[K     |████████████████████████████████| 81kB 4.0MB/s \n",
            "\u001b[?25hRequirement already satisfied: six in /usr/local/lib/python3.6/dist-packages (from fire) (1.12.0)\n",
            "Requirement already satisfied: termcolor in /usr/local/lib/python3.6/dist-packages (from fire) (1.1.0)\n",
            "Building wheels for collected packages: fire\n",
            "  Building wheel for fire (setup.py) ... \u001b[?25l\u001b[?25hdone\n",
            "  Created wheel for fire: filename=fire-0.3.1-py2.py3-none-any.whl size=111005 sha256=d008534a64a06c6c564e435f69b61ceed58c839bc80d6f47457943e2b0281986\n",
            "  Stored in directory: /root/.cache/pip/wheels/c1/61/df/768b03527bf006b546dce284eb4249b185669e65afc5fbb2ac\n",
            "Successfully built fire\n",
            "Installing collected packages: fire\n",
            "Successfully installed fire-0.3.1\n"
          ],
          "name": "stdout"
        }
      ]
    },
    {
      "cell_type": "code",
      "metadata": {
        "id": "-b2OGP91r_g3",
        "colab_type": "code",
        "colab": {
          "base_uri": "https://localhost:8080/",
          "height": 34
        },
        "outputId": "bd23334e-3cb2-4918-8ebf-25e0ef92102d"
      },
      "source": [
        "!python notebook2script.py 00_exports.ipynb"
      ],
      "execution_count": 10,
      "outputs": [
        {
          "output_type": "stream",
          "text": [
            "Converted 00_exports.ipynb to exp/nb_00.py\n"
          ],
          "name": "stdout"
        }
      ]
    },
    {
      "cell_type": "markdown",
      "metadata": {
        "id": "emqKPYcEr_g7",
        "colab_type": "text"
      },
      "source": [
        "### How it works:"
      ]
    },
    {
      "cell_type": "code",
      "metadata": {
        "id": "Ubp1jqfpr_g7",
        "colab_type": "code",
        "colab": {}
      },
      "source": [
        "import json\n",
        "d = json.load(open('00_exports.ipynb','r'))['cells']"
      ],
      "execution_count": 11,
      "outputs": []
    },
    {
      "cell_type": "code",
      "metadata": {
        "id": "cVpTH_KDr_g_",
        "colab_type": "code",
        "colab": {
          "base_uri": "https://localhost:8080/",
          "height": 102
        },
        "outputId": "2fc7951a-d47d-4106-c69f-a047cdf47949"
      },
      "source": [
        "d[0]"
      ],
      "execution_count": 28,
      "outputs": [
        {
          "output_type": "execute_result",
          "data": {
            "text/plain": [
              "{'cell_type': 'code',\n",
              " 'execution_count': None,\n",
              " 'metadata': {'colab': {}, 'colab_type': 'code', 'id': '0TXxP7ZGve2J'},\n",
              " 'outputs': [],\n",
              " 'source': ['']}"
            ]
          },
          "metadata": {
            "tags": []
          },
          "execution_count": 28
        }
      ]
    },
    {
      "cell_type": "code",
      "metadata": {
        "id": "NLEcsNvAsJcD",
        "colab_type": "code",
        "colab": {}
      },
      "source": [
        ""
      ],
      "execution_count": null,
      "outputs": []
    }
  ]
}